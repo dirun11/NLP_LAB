{
  "nbformat": 4,
  "nbformat_minor": 0,
  "metadata": {
    "colab": {
      "provenance": []
    },
    "kernelspec": {
      "name": "python3",
      "display_name": "Python 3"
    },
    "language_info": {
      "name": "python"
    }
  },
  "cells": [
    {
      "cell_type": "code",
      "execution_count": null,
      "metadata": {
        "colab": {
          "base_uri": "https://localhost:8080/"
        },
        "id": "iDsE3p8gkmrN",
        "outputId": "7e93ee24-c7df-4e46-fc7c-9be68e2dc20f"
      },
      "outputs": [
        {
          "output_type": "stream",
          "name": "stderr",
          "text": [
            "[nltk_data] Downloading package punkt to /root/nltk_data...\n",
            "[nltk_data]   Unzipping tokenizers/punkt.zip.\n"
          ]
        }
      ],
      "source": [
        "import numpy as np # linear algebra\n",
        "import pandas as pd # data processing, CSV file I/O (e.g. pd.read_csv)\n",
        "import re\n",
        "import string\n",
        "import nltk\n",
        "import matplotlib.pyplot as plt\n",
        "import seaborn as sns\n",
        "\n",
        "from nltk import word_tokenize\n",
        "from nltk.corpus import stopwords\n",
        "from nltk.stem import PorterStemmer\n",
        "from nltk.tokenize import TweetTokenizer\n",
        "\n",
        "from nltk.sentiment.vader import SentimentIntensityAnalyzer as SIA\n",
        "nltk.download('punkt')\n",
        "\n",
        "import datetime as dt\n",
        "import pandas_datareader as web\n",
        "\n",
        "from sklearn.preprocessing import MinMaxScaler\n",
        "from tensorflow.keras.models import Sequential\n",
        "from tensorflow.keras.layers import Dense , Dropout ,LSTM\n",
        "import warnings\n",
        "warnings.filterwarnings(\"ignore\")"
      ]
    },
    {
      "cell_type": "code",
      "source": [
        "from google.colab import drive\n",
        "drive.mount('/content/drive')"
      ],
      "metadata": {
        "id": "vZcmvEHBlof3"
      },
      "execution_count": null,
      "outputs": []
    },
    {
      "cell_type": "code",
      "source": [
        "data = pd.read_csv(\"/content/drive/MyDrive/Colab Notebooks/GMEClosePriceSentimentData(2020-2022).csv\")\n",
        "data.head()"
      ],
      "metadata": {
        "colab": {
          "base_uri": "https://localhost:8080/",
          "height": 206
        },
        "id": "YcAr_M5El5oH",
        "outputId": "e8e290d3-44d6-4598-d668-0f31000bbbe2"
      },
      "execution_count": null,
      "outputs": [
        {
          "output_type": "execute_result",
          "data": {
            "text/plain": [
              "                                               title   timestamp  Positive  \\\n",
              "0  if everyone buys and holds gme does that mean ...  2021-01-28  0.000001   \n",
              "1  i didnknow about gamestop until it was to late...  2021-01-28  0.000001   \n",
              "2                                canlook up gamestop  2021-01-28  0.000001   \n",
              "3  short sellers made billions froms tech selloff...  2021-01-28  0.000001   \n",
              "4  short sellers made 3 6 bln in profits so far t...  2021-01-28  0.191001   \n",
              "\n",
              "    Neutral  Negative      Close  \n",
              "0  1.000001  0.000001  48.400002  \n",
              "1  1.000001  0.000001  48.400002  \n",
              "2  1.000001  0.000001  48.400002  \n",
              "3  0.787001  0.213001  48.400002  \n",
              "4  0.712001  0.097001  48.400002  "
            ],
            "text/html": [
              "\n",
              "  <div id=\"df-c6727cf7-dd12-4a1a-a063-f23ae30129c0\">\n",
              "    <div class=\"colab-df-container\">\n",
              "      <div>\n",
              "<style scoped>\n",
              "    .dataframe tbody tr th:only-of-type {\n",
              "        vertical-align: middle;\n",
              "    }\n",
              "\n",
              "    .dataframe tbody tr th {\n",
              "        vertical-align: top;\n",
              "    }\n",
              "\n",
              "    .dataframe thead th {\n",
              "        text-align: right;\n",
              "    }\n",
              "</style>\n",
              "<table border=\"1\" class=\"dataframe\">\n",
              "  <thead>\n",
              "    <tr style=\"text-align: right;\">\n",
              "      <th></th>\n",
              "      <th>title</th>\n",
              "      <th>timestamp</th>\n",
              "      <th>Positive</th>\n",
              "      <th>Neutral</th>\n",
              "      <th>Negative</th>\n",
              "      <th>Close</th>\n",
              "    </tr>\n",
              "  </thead>\n",
              "  <tbody>\n",
              "    <tr>\n",
              "      <th>0</th>\n",
              "      <td>if everyone buys and holds gme does that mean ...</td>\n",
              "      <td>2021-01-28</td>\n",
              "      <td>0.000001</td>\n",
              "      <td>1.000001</td>\n",
              "      <td>0.000001</td>\n",
              "      <td>48.400002</td>\n",
              "    </tr>\n",
              "    <tr>\n",
              "      <th>1</th>\n",
              "      <td>i didnknow about gamestop until it was to late...</td>\n",
              "      <td>2021-01-28</td>\n",
              "      <td>0.000001</td>\n",
              "      <td>1.000001</td>\n",
              "      <td>0.000001</td>\n",
              "      <td>48.400002</td>\n",
              "    </tr>\n",
              "    <tr>\n",
              "      <th>2</th>\n",
              "      <td>canlook up gamestop</td>\n",
              "      <td>2021-01-28</td>\n",
              "      <td>0.000001</td>\n",
              "      <td>1.000001</td>\n",
              "      <td>0.000001</td>\n",
              "      <td>48.400002</td>\n",
              "    </tr>\n",
              "    <tr>\n",
              "      <th>3</th>\n",
              "      <td>short sellers made billions froms tech selloff...</td>\n",
              "      <td>2021-01-28</td>\n",
              "      <td>0.000001</td>\n",
              "      <td>0.787001</td>\n",
              "      <td>0.213001</td>\n",
              "      <td>48.400002</td>\n",
              "    </tr>\n",
              "    <tr>\n",
              "      <th>4</th>\n",
              "      <td>short sellers made 3 6 bln in profits so far t...</td>\n",
              "      <td>2021-01-28</td>\n",
              "      <td>0.191001</td>\n",
              "      <td>0.712001</td>\n",
              "      <td>0.097001</td>\n",
              "      <td>48.400002</td>\n",
              "    </tr>\n",
              "  </tbody>\n",
              "</table>\n",
              "</div>\n",
              "      <button class=\"colab-df-convert\" onclick=\"convertToInteractive('df-c6727cf7-dd12-4a1a-a063-f23ae30129c0')\"\n",
              "              title=\"Convert this dataframe to an interactive table.\"\n",
              "              style=\"display:none;\">\n",
              "        \n",
              "  <svg xmlns=\"http://www.w3.org/2000/svg\" height=\"24px\"viewBox=\"0 0 24 24\"\n",
              "       width=\"24px\">\n",
              "    <path d=\"M0 0h24v24H0V0z\" fill=\"none\"/>\n",
              "    <path d=\"M18.56 5.44l.94 2.06.94-2.06 2.06-.94-2.06-.94-.94-2.06-.94 2.06-2.06.94zm-11 1L8.5 8.5l.94-2.06 2.06-.94-2.06-.94L8.5 2.5l-.94 2.06-2.06.94zm10 10l.94 2.06.94-2.06 2.06-.94-2.06-.94-.94-2.06-.94 2.06-2.06.94z\"/><path d=\"M17.41 7.96l-1.37-1.37c-.4-.4-.92-.59-1.43-.59-.52 0-1.04.2-1.43.59L10.3 9.45l-7.72 7.72c-.78.78-.78 2.05 0 2.83L4 21.41c.39.39.9.59 1.41.59.51 0 1.02-.2 1.41-.59l7.78-7.78 2.81-2.81c.8-.78.8-2.07 0-2.86zM5.41 20L4 18.59l7.72-7.72 1.47 1.35L5.41 20z\"/>\n",
              "  </svg>\n",
              "      </button>\n",
              "      \n",
              "  <style>\n",
              "    .colab-df-container {\n",
              "      display:flex;\n",
              "      flex-wrap:wrap;\n",
              "      gap: 12px;\n",
              "    }\n",
              "\n",
              "    .colab-df-convert {\n",
              "      background-color: #E8F0FE;\n",
              "      border: none;\n",
              "      border-radius: 50%;\n",
              "      cursor: pointer;\n",
              "      display: none;\n",
              "      fill: #1967D2;\n",
              "      height: 32px;\n",
              "      padding: 0 0 0 0;\n",
              "      width: 32px;\n",
              "    }\n",
              "\n",
              "    .colab-df-convert:hover {\n",
              "      background-color: #E2EBFA;\n",
              "      box-shadow: 0px 1px 2px rgba(60, 64, 67, 0.3), 0px 1px 3px 1px rgba(60, 64, 67, 0.15);\n",
              "      fill: #174EA6;\n",
              "    }\n",
              "\n",
              "    [theme=dark] .colab-df-convert {\n",
              "      background-color: #3B4455;\n",
              "      fill: #D2E3FC;\n",
              "    }\n",
              "\n",
              "    [theme=dark] .colab-df-convert:hover {\n",
              "      background-color: #434B5C;\n",
              "      box-shadow: 0px 1px 3px 1px rgba(0, 0, 0, 0.15);\n",
              "      filter: drop-shadow(0px 1px 2px rgba(0, 0, 0, 0.3));\n",
              "      fill: #FFFFFF;\n",
              "    }\n",
              "  </style>\n",
              "\n",
              "      <script>\n",
              "        const buttonEl =\n",
              "          document.querySelector('#df-c6727cf7-dd12-4a1a-a063-f23ae30129c0 button.colab-df-convert');\n",
              "        buttonEl.style.display =\n",
              "          google.colab.kernel.accessAllowed ? 'block' : 'none';\n",
              "\n",
              "        async function convertToInteractive(key) {\n",
              "          const element = document.querySelector('#df-c6727cf7-dd12-4a1a-a063-f23ae30129c0');\n",
              "          const dataTable =\n",
              "            await google.colab.kernel.invokeFunction('convertToInteractive',\n",
              "                                                     [key], {});\n",
              "          if (!dataTable) return;\n",
              "\n",
              "          const docLinkHtml = 'Like what you see? Visit the ' +\n",
              "            '<a target=\"_blank\" href=https://colab.research.google.com/notebooks/data_table.ipynb>data table notebook</a>'\n",
              "            + ' to learn more about interactive tables.';\n",
              "          element.innerHTML = '';\n",
              "          dataTable['output_type'] = 'display_data';\n",
              "          await google.colab.output.renderOutput(dataTable, element);\n",
              "          const docLink = document.createElement('div');\n",
              "          docLink.innerHTML = docLinkHtml;\n",
              "          element.appendChild(docLink);\n",
              "        }\n",
              "      </script>\n",
              "    </div>\n",
              "  </div>\n",
              "  "
            ]
          },
          "metadata": {},
          "execution_count": 4
        }
      ]
    },
    {
      "cell_type": "code",
      "source": [
        "scaler = MinMaxScaler(feature_range=(0,1))\n",
        "scaled_data = scaler.fit_transform(data['Close'].values.reshape(-1,1))\n",
        "prediction_days = 60\n",
        "\n",
        "x_train = []\n",
        "y_train = []\n",
        "\n",
        "for x in range (prediction_days, len(scaled_data)):\n",
        "    x_train.append(scaled_data[x - prediction_days:x, 0])\n",
        "    y_train.append(scaled_data[x,0])\n",
        "    \n",
        "x_train , y_train = np.array(x_train) , np.array(y_train)\n",
        "\n",
        "x_train = np.reshape(x_train , (x_train.shape[0],x_train.shape[1] , 1))"
      ],
      "metadata": {
        "id": "C34w1Qn_mITm"
      },
      "execution_count": null,
      "outputs": []
    },
    {
      "cell_type": "code",
      "source": [
        "model = Sequential()\n",
        "\n",
        "model.add(LSTM(units = 50, return_sequences = True , input_shape=(x_train.shape[1],1)))\n",
        "model.add(Dropout(0.2))\n",
        "model.add(LSTM(units = 50, return_sequences = True)) \n",
        "model.add(Dropout(0.2))\n",
        "model.add(LSTM(units = 50))\n",
        "model.add(Dropout(0.2))\n",
        "model.add(Dense(units = 1))\n",
        "\n",
        "model.compile(optimizer = 'adam' , loss = 'mean_squared_error',metrics = 'accuracy' )\n",
        "model.fit(x_train,y_train,epochs = 10 , batch_size = 32)"
      ],
      "metadata": {
        "colab": {
          "base_uri": "https://localhost:8080/"
        },
        "id": "GYAIViaEtjaK",
        "outputId": "70fa772b-67a2-4e04-b9e8-2b71f13efe3e"
      },
      "execution_count": null,
      "outputs": [
        {
          "output_type": "stream",
          "name": "stdout",
          "text": [
            "Epoch 1/10\n",
            "18/18 [==============================] - 5s 56ms/step - loss: 0.0864 - accuracy: 0.2473\n",
            "Epoch 2/10\n",
            "18/18 [==============================] - 1s 57ms/step - loss: 0.0202 - accuracy: 0.3127\n",
            "Epoch 3/10\n",
            "18/18 [==============================] - 1s 57ms/step - loss: 0.0162 - accuracy: 0.3127\n",
            "Epoch 4/10\n",
            "18/18 [==============================] - 1s 56ms/step - loss: 0.0147 - accuracy: 0.3127\n",
            "Epoch 5/10\n",
            "18/18 [==============================] - 1s 58ms/step - loss: 0.0132 - accuracy: 0.3127\n",
            "Epoch 6/10\n",
            "18/18 [==============================] - 1s 55ms/step - loss: 0.0167 - accuracy: 0.3127\n",
            "Epoch 7/10\n",
            "18/18 [==============================] - 1s 59ms/step - loss: 0.0159 - accuracy: 0.3127\n",
            "Epoch 8/10\n",
            "18/18 [==============================] - 1s 57ms/step - loss: 0.0139 - accuracy: 0.3127\n",
            "Epoch 9/10\n",
            "18/18 [==============================] - 1s 56ms/step - loss: 0.0114 - accuracy: 0.3127\n",
            "Epoch 10/10\n",
            "18/18 [==============================] - 1s 52ms/step - loss: 0.0122 - accuracy: 0.3127\n"
          ]
        },
        {
          "output_type": "execute_result",
          "data": {
            "text/plain": [
              "<keras.callbacks.History at 0x7f8b183608d0>"
            ]
          },
          "metadata": {},
          "execution_count": 9
        }
      ]
    },
    {
      "cell_type": "code",
      "source": [
        "test_start = dt.datetime(2020,1,1)\n",
        "test_end = dt.datetime.now()\n",
        "\n",
        "stock_ticker = 'GME'\n",
        "\n",
        "start = pd.to_datetime(['2007-01-01']).astype(int)[0]//10**9 # convert to unix timestamp.\n",
        "end = pd.to_datetime(['2020-12-31']).astype(int)[0]//10**9 # convert to unix timestamp.\n",
        "url = 'https://query1.finance.yahoo.com/v7/finance/download/' + stock_ticker + '?period1=' + str(start) + '&period2=' + str(end) + '&interval=1d&events=history'\n",
        "test_data = pd.read_csv(url)\n",
        "\n",
        "actual_prices = test_data['Close'].values\n",
        "\n",
        "total_dataset = pd.concat((data['Close'], test_data['Close']), axis = 0)\n",
        "\n",
        "model_inputs = total_dataset[len(total_dataset) - len(test_data) - prediction_days:].values\n",
        "\n",
        "model_inputs = model_inputs.reshape(-1 , 1)\n",
        "\n",
        "model_inputs = scaler.transform(model_inputs)\n"
      ],
      "metadata": {
        "id": "gK02EE-atu99"
      },
      "execution_count": null,
      "outputs": []
    },
    {
      "cell_type": "code",
      "source": [
        "x_test = []\n",
        "\n",
        "for x in range(prediction_days , len(model_inputs)):\n",
        "    x_test.append(model_inputs[x-prediction_days:x , 0])\n",
        "\n",
        "x_test = np.array(x_test)\n",
        "x_test = np.reshape(x_test , (x_test.shape[0] , x_test.shape[1] , 1))\n",
        "\n",
        "predicted_prices = model.predict(x_test)\n",
        "predicted_prices = scaler.inverse_transform(predicted_prices)"
      ],
      "metadata": {
        "colab": {
          "base_uri": "https://localhost:8080/"
        },
        "id": "NM-YlEkjuVfm",
        "outputId": "ef64a2f5-6ca8-417a-8e52-677e85da4dcd"
      },
      "execution_count": null,
      "outputs": [
        {
          "output_type": "stream",
          "name": "stdout",
          "text": [
            "111/111 [==============================] - 3s 20ms/step\n"
          ]
        }
      ]
    },
    {
      "cell_type": "code",
      "source": [
        "plt.plot(actual_prices, color = \"red\" , label = f\"Actual {company} price\")\n",
        "plt.plot(predicted_prices , color = \"green\" , label = f\"Predicted {company} price\" )\n",
        "plt.title(f\"{company} share price\")\n",
        "plt.xlabel('Time')\n",
        "plt.ylabel(f'{company} Share Price')\n",
        "plt.legend()\n",
        "plt.show()"
      ],
      "metadata": {
        "colab": {
          "base_uri": "https://localhost:8080/",
          "height": 295
        },
        "id": "OMXX9Karu1cx",
        "outputId": "87a78a67-7656-42ef-8e19-c813de6b64c0"
      },
      "execution_count": null,
      "outputs": [
        {
          "output_type": "display_data",
          "data": {
            "text/plain": [
              "<Figure size 432x288 with 1 Axes>"
            ],
            "image/png": "[encoded data removed]"
          },
          "metadata": {
            "needs_background": "light"
          }
        }
      ]
    },
    {
      "cell_type": "code",
      "source": [
        "real_data = [model_inputs[len(model_inputs) + 1 - prediction_days:len(model_inputs+1) , 0]]\n",
        "real_data = np.array(real_data)\n",
        "real_data = np.reshape(real_data, (real_data.shape[0],real_data.shape[1],1))\n",
        "\n",
        "prediction = model.predict(real_data)\n",
        "prediction = scaler.inverse_transform(prediction)\n",
        "\n",
        "print(f\"prediction : {prediction}\")"
      ],
      "metadata": {
        "colab": {
          "base_uri": "https://localhost:8080/"
        },
        "id": "rM8sp_XHu6MV",
        "outputId": "f1e85d4f-3226-4d00-aa7b-408c73e29104"
      },
      "execution_count": null,
      "outputs": [
        {
          "output_type": "stream",
          "name": "stdout",
          "text": [
            "1/1 [==============================] - 0s 16ms/step\n",
            "prediction : [[7.174166]]\n"
          ]
        }
      ]
    }
  ]
}